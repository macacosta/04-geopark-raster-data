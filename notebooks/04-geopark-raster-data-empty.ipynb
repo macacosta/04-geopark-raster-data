{
  "cells": [
    {
      "cell_type": "markdown",
      "metadata": {
        "id": "LvHE9Oc9Rds-"
      },
      "source": [
        "<img src=\"https://inhabitat.com/wp-content/blogs.dir/1/files/2018/04/Amazon-rainforest-gets-personhood.jpg\" height=400 width=1300>\n",
        "\n",
        "Here we will have a look at **raster** data through an application using data from NASA's Carbon Monitoring System (CMS) program. We will focus on the small municipality of Puerto Asís in the Colombian Amazon and look at changes in Landsat-derived landuse between 2002 and 2016. Data for this notebook were downloaded from NASA'S [EarthData](https://www.earthdata.nasa.gov/) library and hosted on [CyVerse](https://cyverse.org/) for cloud-based computing. If you would like to download the data for yourself you can access it here [https://daac.ornl.gov/cgi-bin/dsviewer.pl?ds_id=1783](https://daac.ornl.gov/cgi-bin/dsviewer.pl?ds_id=1783).\n",
        "\n",
        "\n",
        "📚 You can read more about working with raster data and the `rioxarray` library here:\n",
        "> * [Earth Data Science Textbook](https://www.earthdatascience.org/courses/use-data-open-source-python/intro-raster-data-python/fundamentals-raster-data/open-lidar-raster-python-xarray/)\n",
        "> * [Rioxarray documentation](https://corteva.github.io/rioxarray/stable/getting_started/getting_started.html)"
      ]
    },
    {
      "cell_type": "code",
      "execution_count": 1,
      "metadata": {
        "id": "T8sITWskRdtA"
      },
      "outputs": [],
      "source": [
        "# Import Python libraries\n",
        "import matplotlib.pyplot as plt\n",
        "import pandas as pd\n",
        "import geopandas as gpd\n",
        "import earthpy.plot as ep\n",
        "import rioxarray as rxr"
      ]
    },
    {
      "cell_type": "markdown",
      "metadata": {
        "id": "UUO_mbMnvkEX"
      },
      "source": [
        "## Working with **vector** data (.shp) to define the boundary"
      ]
    },
    {
      "cell_type": "code",
      "execution_count": 2,
      "metadata": {
        "id": "_rLxsDINRdtB"
      },
      "outputs": [
        {
          "data": {
            "text/html": [
              "<div>\n",
              "<style scoped>\n",
              "    .dataframe tbody tr th:only-of-type {\n",
              "        vertical-align: middle;\n",
              "    }\n",
              "\n",
              "    .dataframe tbody tr th {\n",
              "        vertical-align: top;\n",
              "    }\n",
              "\n",
              "    .dataframe thead th {\n",
              "        text-align: right;\n",
              "    }\n",
              "</style>\n",
              "<table border=\"1\" class=\"dataframe\">\n",
              "  <thead>\n",
              "    <tr style=\"text-align: right;\">\n",
              "      <th></th>\n",
              "      <th>ID_ESPACIA</th>\n",
              "      <th>AREA_OFICI</th>\n",
              "      <th>ENTIDAD_TE</th>\n",
              "      <th>NOM_DEPART</th>\n",
              "      <th>NOM_MUNICI</th>\n",
              "      <th>COD_DEPTO</th>\n",
              "      <th>geometry</th>\n",
              "    </tr>\n",
              "  </thead>\n",
              "  <tbody>\n",
              "    <tr>\n",
              "      <th>0</th>\n",
              "      <td>23189</td>\n",
              "      <td>637.49</td>\n",
              "      <td>Cabecera Municipal</td>\n",
              "      <td>CÓRDOBA</td>\n",
              "      <td>CIÉNAGA DE ORO</td>\n",
              "      <td>23</td>\n",
              "      <td>POLYGON ((-75.71080 8.98249, -75.71119 8.98358...</td>\n",
              "    </tr>\n",
              "    <tr>\n",
              "      <th>1</th>\n",
              "      <td>23570</td>\n",
              "      <td>795.00</td>\n",
              "      <td>Cabecera Municipal</td>\n",
              "      <td>CÓRDOBA</td>\n",
              "      <td>PUEBLO NUEVO</td>\n",
              "      <td>23</td>\n",
              "      <td>POLYGON ((-75.25133 8.32489, -75.25144 8.32489...</td>\n",
              "    </tr>\n",
              "    <tr>\n",
              "      <th>2</th>\n",
              "      <td>23068</td>\n",
              "      <td>1932.62</td>\n",
              "      <td>Cabecera Municipal</td>\n",
              "      <td>CÓRDOBA</td>\n",
              "      <td>AYAPEL</td>\n",
              "      <td>23</td>\n",
              "      <td>POLYGON ((-75.18418 8.39828, -75.18352 8.39893...</td>\n",
              "    </tr>\n",
              "    <tr>\n",
              "      <th>3</th>\n",
              "      <td>23580</td>\n",
              "      <td>1650.73</td>\n",
              "      <td>Cabecera Municipal</td>\n",
              "      <td>CÓRDOBA</td>\n",
              "      <td>PUERTO LIBERTADOR</td>\n",
              "      <td>23</td>\n",
              "      <td>POLYGON ((-75.51257 7.94787, -75.51315 7.94683...</td>\n",
              "    </tr>\n",
              "    <tr>\n",
              "      <th>4</th>\n",
              "      <td>23686</td>\n",
              "      <td>472.57</td>\n",
              "      <td>Cabecera Municipal</td>\n",
              "      <td>CÓRDOBA</td>\n",
              "      <td>SAN PELAYO</td>\n",
              "      <td>23</td>\n",
              "      <td>POLYGON ((-75.71080 8.98249, -75.71024 8.98264...</td>\n",
              "    </tr>\n",
              "    <tr>\n",
              "      <th>...</th>\n",
              "      <td>...</td>\n",
              "      <td>...</td>\n",
              "      <td>...</td>\n",
              "      <td>...</td>\n",
              "      <td>...</td>\n",
              "      <td>...</td>\n",
              "      <td>...</td>\n",
              "    </tr>\n",
              "    <tr>\n",
              "      <th>1123</th>\n",
              "      <td>23675</td>\n",
              "      <td>335.03</td>\n",
              "      <td>Cabecera Municipal</td>\n",
              "      <td>CÓRDOBA</td>\n",
              "      <td>SAN BERNARDO DEL VIENTO</td>\n",
              "      <td>23</td>\n",
              "      <td>POLYGON ((-75.86320 9.42472, -75.86318 9.42231...</td>\n",
              "    </tr>\n",
              "    <tr>\n",
              "      <th>1124</th>\n",
              "      <td>23672</td>\n",
              "      <td>210.75</td>\n",
              "      <td>Cabecera Municipal</td>\n",
              "      <td>CÓRDOBA</td>\n",
              "      <td>SAN ANTERO</td>\n",
              "      <td>23</td>\n",
              "      <td>POLYGON ((-75.86320 9.42472, -75.86297 9.42476...</td>\n",
              "    </tr>\n",
              "    <tr>\n",
              "      <th>1125</th>\n",
              "      <td>23168</td>\n",
              "      <td>320.42</td>\n",
              "      <td>Cabecera Municipal</td>\n",
              "      <td>CÓRDOBA</td>\n",
              "      <td>CHIMÁ</td>\n",
              "      <td>23</td>\n",
              "      <td>POLYGON ((-75.71080 8.98249, -75.71213 8.98212...</td>\n",
              "    </tr>\n",
              "    <tr>\n",
              "      <th>1126</th>\n",
              "      <td>23670</td>\n",
              "      <td>212.44</td>\n",
              "      <td>Cabecera Municipal</td>\n",
              "      <td>CÓRDOBA</td>\n",
              "      <td>SAN ANDRÉS DE SOTAVENTO</td>\n",
              "      <td>23</td>\n",
              "      <td>POLYGON ((-75.57457 9.02304, -75.57458 9.02421...</td>\n",
              "    </tr>\n",
              "    <tr>\n",
              "      <th>1127</th>\n",
              "      <td>23182</td>\n",
              "      <td>584.90</td>\n",
              "      <td>Cabecera Municipal</td>\n",
              "      <td>CÓRDOBA</td>\n",
              "      <td>CHINÚ</td>\n",
              "      <td>23</td>\n",
              "      <td>POLYGON ((-75.57457 9.02304, -75.57438 9.02306...</td>\n",
              "    </tr>\n",
              "  </tbody>\n",
              "</table>\n",
              "<p>1128 rows × 7 columns</p>\n",
              "</div>"
            ],
            "text/plain": [
              "     ID_ESPACIA  AREA_OFICI          ENTIDAD_TE NOM_DEPART  \\\n",
              "0         23189      637.49  Cabecera Municipal    CÓRDOBA   \n",
              "1         23570      795.00  Cabecera Municipal    CÓRDOBA   \n",
              "2         23068     1932.62  Cabecera Municipal    CÓRDOBA   \n",
              "3         23580     1650.73  Cabecera Municipal    CÓRDOBA   \n",
              "4         23686      472.57  Cabecera Municipal    CÓRDOBA   \n",
              "...         ...         ...                 ...        ...   \n",
              "1123      23675      335.03  Cabecera Municipal    CÓRDOBA   \n",
              "1124      23672      210.75  Cabecera Municipal    CÓRDOBA   \n",
              "1125      23168      320.42  Cabecera Municipal    CÓRDOBA   \n",
              "1126      23670      212.44  Cabecera Municipal    CÓRDOBA   \n",
              "1127      23182      584.90  Cabecera Municipal    CÓRDOBA   \n",
              "\n",
              "                   NOM_MUNICI COD_DEPTO  \\\n",
              "0              CIÉNAGA DE ORO        23   \n",
              "1                PUEBLO NUEVO        23   \n",
              "2                      AYAPEL        23   \n",
              "3           PUERTO LIBERTADOR        23   \n",
              "4                  SAN PELAYO        23   \n",
              "...                       ...       ...   \n",
              "1123  SAN BERNARDO DEL VIENTO        23   \n",
              "1124               SAN ANTERO        23   \n",
              "1125                    CHIMÁ        23   \n",
              "1126  SAN ANDRÉS DE SOTAVENTO        23   \n",
              "1127                    CHINÚ        23   \n",
              "\n",
              "                                               geometry  \n",
              "0     POLYGON ((-75.71080 8.98249, -75.71119 8.98358...  \n",
              "1     POLYGON ((-75.25133 8.32489, -75.25144 8.32489...  \n",
              "2     POLYGON ((-75.18418 8.39828, -75.18352 8.39893...  \n",
              "3     POLYGON ((-75.51257 7.94787, -75.51315 7.94683...  \n",
              "4     POLYGON ((-75.71080 8.98249, -75.71024 8.98264...  \n",
              "...                                                 ...  \n",
              "1123  POLYGON ((-75.86320 9.42472, -75.86318 9.42231...  \n",
              "1124  POLYGON ((-75.86320 9.42472, -75.86297 9.42476...  \n",
              "1125  POLYGON ((-75.71080 8.98249, -75.71213 8.98212...  \n",
              "1126  POLYGON ((-75.57457 9.02304, -75.57458 9.02421...  \n",
              "1127  POLYGON ((-75.57457 9.02304, -75.57438 9.02306...  \n",
              "\n",
              "[1128 rows x 7 columns]"
            ]
          },
          "execution_count": 2,
          "metadata": {},
          "output_type": "execute_result"
        }
      ],
      "source": [
        "# Define link to Colombia Municipalities shp url from\n",
        "# (https://maps.princeton.edu/catalog/tufts-colombia-municipalities-11)\n",
        "\n",
        "col_muni_url = ('https://maps.princeton.edu/download/file'\n",
        "                '/tufts-colombia-municipalities-11-shapefile.zip')\n",
        "\n",
        "# Open data using geopandas\n",
        "colboundary = gpd.read_file(col_muni_url)\n",
        "colboundary"
      ]
    },
    {
      "cell_type": "code",
      "execution_count": 3,
      "metadata": {
        "id": "VK2Bc9snRdtB"
      },
      "outputs": [
        {
          "data": {
            "text/plain": [
              "<Axes: >"
            ]
          },
          "execution_count": 3,
          "metadata": {},
          "output_type": "execute_result"
        },
        {
          "data": {
            "image/png": "[encoded data removed]",
            "text/plain": [
              "<Figure size 640x480 with 1 Axes>"
            ]
          },
          "metadata": {},
          "output_type": "display_data"
        }
      ],
      "source": [
        "# Plot the geodataframe using Matplotlib\n",
        "colboundary.plot()"
      ]
    },
    {
      "cell_type": "code",
      "execution_count": 8,
      "metadata": {
        "id": "NNOkm-HLRdtB"
      },
      "outputs": [
        {
          "data": {
            "text/html": [
              "<div>\n",
              "<style scoped>\n",
              "    .dataframe tbody tr th:only-of-type {\n",
              "        vertical-align: middle;\n",
              "    }\n",
              "\n",
              "    .dataframe tbody tr th {\n",
              "        vertical-align: top;\n",
              "    }\n",
              "\n",
              "    .dataframe thead th {\n",
              "        text-align: right;\n",
              "    }\n",
              "</style>\n",
              "<table border=\"1\" class=\"dataframe\">\n",
              "  <thead>\n",
              "    <tr style=\"text-align: right;\">\n",
              "      <th></th>\n",
              "      <th>ID_ESPACIA</th>\n",
              "      <th>AREA_OFICI</th>\n",
              "      <th>ENTIDAD_TE</th>\n",
              "      <th>NOM_DEPART</th>\n",
              "      <th>NOM_MUNICI</th>\n",
              "      <th>COD_DEPTO</th>\n",
              "      <th>geometry</th>\n",
              "    </tr>\n",
              "  </thead>\n",
              "  <tbody>\n",
              "    <tr>\n",
              "      <th>467</th>\n",
              "      <td>86749</td>\n",
              "      <td>88.43</td>\n",
              "      <td>Cabecera Municipal</td>\n",
              "      <td>PUTUMAYO</td>\n",
              "      <td>SIBUNDOY</td>\n",
              "      <td>86</td>\n",
              "      <td>POLYGON ((-76.96553 1.15862, -76.96538 1.15901...</td>\n",
              "    </tr>\n",
              "    <tr>\n",
              "      <th>468</th>\n",
              "      <td>86760</td>\n",
              "      <td>339.98</td>\n",
              "      <td>Cabecera Municipal</td>\n",
              "      <td>PUTUMAYO</td>\n",
              "      <td>SANTIAGO</td>\n",
              "      <td>86</td>\n",
              "      <td>POLYGON ((-77.04651 0.97891, -77.04607 0.98036...</td>\n",
              "    </tr>\n",
              "    <tr>\n",
              "      <th>469</th>\n",
              "      <td>86219</td>\n",
              "      <td>187.50</td>\n",
              "      <td>Cabecera Municipal</td>\n",
              "      <td>PUTUMAYO</td>\n",
              "      <td>COLÓN</td>\n",
              "      <td>86</td>\n",
              "      <td>POLYGON ((-76.96553 1.15862, -76.96592 1.15895...</td>\n",
              "    </tr>\n",
              "    <tr>\n",
              "      <th>470</th>\n",
              "      <td>86755</td>\n",
              "      <td>408.74</td>\n",
              "      <td>Cabecera Municipal</td>\n",
              "      <td>PUTUMAYO</td>\n",
              "      <td>SAN FRANCISCO</td>\n",
              "      <td>86</td>\n",
              "      <td>POLYGON ((-76.85293 1.04544, -76.85349 1.04587...</td>\n",
              "    </tr>\n",
              "    <tr>\n",
              "      <th>998</th>\n",
              "      <td>86865</td>\n",
              "      <td>798.54</td>\n",
              "      <td>Cabecera Municipal</td>\n",
              "      <td>PUTUMAYO</td>\n",
              "      <td>VALLE DEL GUAMUEZ (La Hormiga)</td>\n",
              "      <td>86</td>\n",
              "      <td>POLYGON ((-77.05013 0.28792, -77.05196 0.28617...</td>\n",
              "    </tr>\n",
              "    <tr>\n",
              "      <th>999</th>\n",
              "      <td>86757</td>\n",
              "      <td>386.20</td>\n",
              "      <td>Cabecera Municipal</td>\n",
              "      <td>PUTUMAYO</td>\n",
              "      <td>SAN MIGUEL (La Dorada)</td>\n",
              "      <td>86</td>\n",
              "      <td>POLYGON ((-77.05013 0.28792, -77.04992 0.28890...</td>\n",
              "    </tr>\n",
              "    <tr>\n",
              "      <th>1000</th>\n",
              "      <td>86320</td>\n",
              "      <td>1951.31</td>\n",
              "      <td>Cabecera Municipal</td>\n",
              "      <td>PUTUMAYO</td>\n",
              "      <td>ORITO</td>\n",
              "      <td>86</td>\n",
              "      <td>POLYGON ((-77.07315 0.94485, -77.07294 0.94451...</td>\n",
              "    </tr>\n",
              "    <tr>\n",
              "      <th>1001</th>\n",
              "      <td>86885</td>\n",
              "      <td>1398.80</td>\n",
              "      <td>Cabecera Municipal</td>\n",
              "      <td>PUTUMAYO</td>\n",
              "      <td>VILLAGARZÓN</td>\n",
              "      <td>86</td>\n",
              "      <td>POLYGON ((-77.04651 0.97891, -77.01514 0.98044...</td>\n",
              "    </tr>\n",
              "    <tr>\n",
              "      <th>1002</th>\n",
              "      <td>86001</td>\n",
              "      <td>1328.83</td>\n",
              "      <td>CAP. DEPTO</td>\n",
              "      <td>PUTUMAYO</td>\n",
              "      <td>MOCOA</td>\n",
              "      <td>86</td>\n",
              "      <td>POLYGON ((-76.87674 1.28927, -76.87881 1.29186...</td>\n",
              "    </tr>\n",
              "    <tr>\n",
              "      <th>1003</th>\n",
              "      <td>86568</td>\n",
              "      <td>2800.64</td>\n",
              "      <td>Cabecera Municipal</td>\n",
              "      <td>PUTUMAYO</td>\n",
              "      <td>PUERTO ASÍS</td>\n",
              "      <td>86</td>\n",
              "      <td>POLYGON ((-76.14319 0.37627, -76.14494 0.37667...</td>\n",
              "    </tr>\n",
              "    <tr>\n",
              "      <th>1004</th>\n",
              "      <td>86569</td>\n",
              "      <td>931.95</td>\n",
              "      <td>Cabecera Municipal</td>\n",
              "      <td>PUTUMAYO</td>\n",
              "      <td>PUERTO CAICEDO</td>\n",
              "      <td>86</td>\n",
              "      <td>POLYGON ((-76.76594 0.79042, -76.53859 0.79149...</td>\n",
              "    </tr>\n",
              "    <tr>\n",
              "      <th>1005</th>\n",
              "      <td>86573</td>\n",
              "      <td>10782.91</td>\n",
              "      <td>Cabecera Municipal</td>\n",
              "      <td>PUTUMAYO</td>\n",
              "      <td>PUERTO LEGUÍZAMO</td>\n",
              "      <td>86</td>\n",
              "      <td>POLYGON ((-75.26652 0.72525, -75.26430 0.72376...</td>\n",
              "    </tr>\n",
              "    <tr>\n",
              "      <th>1006</th>\n",
              "      <td>86571</td>\n",
              "      <td>4538.53</td>\n",
              "      <td>Cabecera Municipal</td>\n",
              "      <td>PUTUMAYO</td>\n",
              "      <td>PUERTO GUZMÁN</td>\n",
              "      <td>86</td>\n",
              "      <td>POLYGON ((-75.26652 0.72525, -75.26792 0.72317...</td>\n",
              "    </tr>\n",
              "  </tbody>\n",
              "</table>\n",
              "</div>"
            ],
            "text/plain": [
              "     ID_ESPACIA  AREA_OFICI          ENTIDAD_TE NOM_DEPART  \\\n",
              "467       86749       88.43  Cabecera Municipal   PUTUMAYO   \n",
              "468       86760      339.98  Cabecera Municipal   PUTUMAYO   \n",
              "469       86219      187.50  Cabecera Municipal   PUTUMAYO   \n",
              "470       86755      408.74  Cabecera Municipal   PUTUMAYO   \n",
              "998       86865      798.54  Cabecera Municipal   PUTUMAYO   \n",
              "999       86757      386.20  Cabecera Municipal   PUTUMAYO   \n",
              "1000      86320     1951.31  Cabecera Municipal   PUTUMAYO   \n",
              "1001      86885     1398.80  Cabecera Municipal   PUTUMAYO   \n",
              "1002      86001     1328.83          CAP. DEPTO   PUTUMAYO   \n",
              "1003      86568     2800.64  Cabecera Municipal   PUTUMAYO   \n",
              "1004      86569      931.95  Cabecera Municipal   PUTUMAYO   \n",
              "1005      86573    10782.91  Cabecera Municipal   PUTUMAYO   \n",
              "1006      86571     4538.53  Cabecera Municipal   PUTUMAYO   \n",
              "\n",
              "                          NOM_MUNICI COD_DEPTO  \\\n",
              "467                         SIBUNDOY        86   \n",
              "468                         SANTIAGO        86   \n",
              "469                            COLÓN        86   \n",
              "470                    SAN FRANCISCO        86   \n",
              "998   VALLE DEL GUAMUEZ (La Hormiga)        86   \n",
              "999           SAN MIGUEL (La Dorada)        86   \n",
              "1000                           ORITO        86   \n",
              "1001                     VILLAGARZÓN        86   \n",
              "1002                           MOCOA        86   \n",
              "1003                     PUERTO ASÍS        86   \n",
              "1004                  PUERTO CAICEDO        86   \n",
              "1005                PUERTO LEGUÍZAMO        86   \n",
              "1006                   PUERTO GUZMÁN        86   \n",
              "\n",
              "                                               geometry  \n",
              "467   POLYGON ((-76.96553 1.15862, -76.96538 1.15901...  \n",
              "468   POLYGON ((-77.04651 0.97891, -77.04607 0.98036...  \n",
              "469   POLYGON ((-76.96553 1.15862, -76.96592 1.15895...  \n",
              "470   POLYGON ((-76.85293 1.04544, -76.85349 1.04587...  \n",
              "998   POLYGON ((-77.05013 0.28792, -77.05196 0.28617...  \n",
              "999   POLYGON ((-77.05013 0.28792, -77.04992 0.28890...  \n",
              "1000  POLYGON ((-77.07315 0.94485, -77.07294 0.94451...  \n",
              "1001  POLYGON ((-77.04651 0.97891, -77.01514 0.98044...  \n",
              "1002  POLYGON ((-76.87674 1.28927, -76.87881 1.29186...  \n",
              "1003  POLYGON ((-76.14319 0.37627, -76.14494 0.37667...  \n",
              "1004  POLYGON ((-76.76594 0.79042, -76.53859 0.79149...  \n",
              "1005  POLYGON ((-75.26652 0.72525, -75.26430 0.72376...  \n",
              "1006  POLYGON ((-75.26652 0.72525, -75.26792 0.72317...  "
            ]
          },
          "execution_count": 8,
          "metadata": {},
          "output_type": "execute_result"
        }
      ],
      "source": [
        "# Select Putumayo Department, print the CRS, and call the data\n",
        "putumayo = colboundary[colboundary[\"NOM_DEPART\"].isin([\"PUTUMAYO\"])]\n",
        "putumayo\n",
        "# print(putumayo.crs)"
      ]
    },
    {
      "cell_type": "code",
      "execution_count": 6,
      "metadata": {
        "id": "VbD6MbGKRdtB"
      },
      "outputs": [
        {
          "data": {
            "text/plain": [
              "<Axes: >"
            ]
          },
          "execution_count": 6,
          "metadata": {},
          "output_type": "execute_result"
        },
        {
          "data": {
            "image/png": "[encoded data removed]",
            "text/plain": [
              "<Figure size 640x480 with 1 Axes>"
            ]
          },
          "metadata": {},
          "output_type": "display_data"
        }
      ],
      "source": [
        "# Plot Putumayo using .plot()\n",
        "putumayo.plot()"
      ]
    },
    {
      "cell_type": "code",
      "execution_count": 9,
      "metadata": {
        "id": "5FoaMkQ5RdtC"
      },
      "outputs": [
        {
          "data": {
            "text/html": [
              "<div>\n",
              "<style scoped>\n",
              "    .dataframe tbody tr th:only-of-type {\n",
              "        vertical-align: middle;\n",
              "    }\n",
              "\n",
              "    .dataframe tbody tr th {\n",
              "        vertical-align: top;\n",
              "    }\n",
              "\n",
              "    .dataframe thead th {\n",
              "        text-align: right;\n",
              "    }\n",
              "</style>\n",
              "<table border=\"1\" class=\"dataframe\">\n",
              "  <thead>\n",
              "    <tr style=\"text-align: right;\">\n",
              "      <th></th>\n",
              "      <th>ID_ESPACIA</th>\n",
              "      <th>AREA_OFICI</th>\n",
              "      <th>ENTIDAD_TE</th>\n",
              "      <th>NOM_DEPART</th>\n",
              "      <th>NOM_MUNICI</th>\n",
              "      <th>COD_DEPTO</th>\n",
              "      <th>geometry</th>\n",
              "    </tr>\n",
              "  </thead>\n",
              "  <tbody>\n",
              "    <tr>\n",
              "      <th>1003</th>\n",
              "      <td>86568</td>\n",
              "      <td>2800.64</td>\n",
              "      <td>Cabecera Municipal</td>\n",
              "      <td>PUTUMAYO</td>\n",
              "      <td>PUERTO ASÍS</td>\n",
              "      <td>86</td>\n",
              "      <td>POLYGON ((-76.14319 0.37627, -76.14494 0.37667...</td>\n",
              "    </tr>\n",
              "  </tbody>\n",
              "</table>\n",
              "</div>"
            ],
            "text/plain": [
              "     ID_ESPACIA  AREA_OFICI          ENTIDAD_TE NOM_DEPART   NOM_MUNICI  \\\n",
              "1003      86568     2800.64  Cabecera Municipal   PUTUMAYO  PUERTO ASÍS   \n",
              "\n",
              "     COD_DEPTO                                           geometry  \n",
              "1003        86  POLYGON ((-76.14319 0.37627, -76.14494 0.37667...  "
            ]
          },
          "execution_count": 9,
          "metadata": {},
          "output_type": "execute_result"
        }
      ],
      "source": [
        "# Select Puerto Asís from Putumayo\n",
        "ptoasis = colboundary[colboundary[\"NOM_MUNICI\"].isin([\"PUERTO ASÍS\"])]\n",
        "ptoasis"
      ]
    },
    {
      "cell_type": "code",
      "execution_count": 10,
      "metadata": {
        "id": "YtoSxQ6GRdtC"
      },
      "outputs": [
        {
          "data": {
            "text/html": [
              "<div>\n",
              "<style scoped>\n",
              "    .dataframe tbody tr th:only-of-type {\n",
              "        vertical-align: middle;\n",
              "    }\n",
              "\n",
              "    .dataframe tbody tr th {\n",
              "        vertical-align: top;\n",
              "    }\n",
              "\n",
              "    .dataframe thead th {\n",
              "        text-align: right;\n",
              "    }\n",
              "</style>\n",
              "<table border=\"1\" class=\"dataframe\">\n",
              "  <thead>\n",
              "    <tr style=\"text-align: right;\">\n",
              "      <th></th>\n",
              "      <th>ID_ESPACIA</th>\n",
              "      <th>AREA_OFICI</th>\n",
              "      <th>ENTIDAD_TE</th>\n",
              "      <th>NOM_DEPART</th>\n",
              "      <th>NOM_MUNICI</th>\n",
              "      <th>COD_DEPTO</th>\n",
              "      <th>geometry</th>\n",
              "    </tr>\n",
              "  </thead>\n",
              "  <tbody>\n",
              "    <tr>\n",
              "      <th>1003</th>\n",
              "      <td>86568</td>\n",
              "      <td>2800.64</td>\n",
              "      <td>Cabecera Municipal</td>\n",
              "      <td>PUTUMAYO</td>\n",
              "      <td>PUERTO ASÍS</td>\n",
              "      <td>86</td>\n",
              "      <td>POLYGON ((-76.14319 0.37627, -76.14494 0.37667...</td>\n",
              "    </tr>\n",
              "  </tbody>\n",
              "</table>\n",
              "</div>"
            ],
            "text/plain": [
              "     ID_ESPACIA  AREA_OFICI          ENTIDAD_TE NOM_DEPART   NOM_MUNICI  \\\n",
              "1003      86568     2800.64  Cabecera Municipal   PUTUMAYO  PUERTO ASÍS   \n",
              "\n",
              "     COD_DEPTO                                           geometry  \n",
              "1003        86  POLYGON ((-76.14319 0.37627, -76.14494 0.37667...  "
            ]
          },
          "execution_count": 10,
          "metadata": {},
          "output_type": "execute_result"
        }
      ],
      "source": [
        "# NOTE: the following syntax also works to select/subset data\n",
        "ptoasis = putumayo[putumayo[\"NOM_MUNICI\"] == \"PUERTO ASÍS\"]\n",
        "ptoasis"
      ]
    },
    {
      "cell_type": "code",
      "execution_count": 11,
      "metadata": {
        "id": "kQN6ecwtRdtC"
      },
      "outputs": [
        {
          "data": {
            "text/plain": [
              "<Axes: >"
            ]
          },
          "execution_count": 11,
          "metadata": {},
          "output_type": "execute_result"
        },
        {
          "data": {
            "image/png": "[encoded data removed]",
            "text/plain": [
              "<Figure size 640x480 with 1 Axes>"
            ]
          },
          "metadata": {},
          "output_type": "display_data"
        }
      ],
      "source": [
        "# Plot Puerto Asís\n",
        "ptoasis.plot()"
      ]
    },
    {
      "cell_type": "markdown",
      "metadata": {
        "id": "hgRVUCkVvr-W"
      },
      "source": [
        "## Opening and clipping **raster** data"
      ]
    },
    {
      "cell_type": "code",
      "execution_count": null,
      "metadata": {
        "id": "5Pwg7DUfRdtC"
      },
      "outputs": [],
      "source": [
        "# Define url to 2002 raster data\n",
        "raster_2002_url = (\"https://data.cyverse.org/dav-anon/iplant/home/shared/\"\n",
        "                   \"earthlab/geopark/landcover_colombian_amazon_2002.tif\")"
      ]
    },
    {
      "cell_type": "code",
      "execution_count": null,
      "metadata": {
        "id": "EF7k4ZvWRdtD"
      },
      "outputs": [],
      "source": [
        "# Define url to 2016 raster data\n",
        "raster_2016_url = (\"https://data.cyverse.org/dav-anon/iplant/home/shared/\"\n",
        "                   \"earthlab/geopark/landcover_colombian_amazon_2016.tif\")"
      ]
    },
    {
      "cell_type": "code",
      "execution_count": null,
      "metadata": {
        "id": "_5vEFcuBRdtD"
      },
      "outputs": [],
      "source": [
        "# Reproject Puerto Asís shp to same CRS as raster (EPSG:32618) and plot\n"
      ]
    },
    {
      "cell_type": "code",
      "execution_count": null,
      "metadata": {
        "id": "9pngWZt3RdtD"
      },
      "outputs": [],
      "source": [
        "# Open and clip the 2002 raster data to the Puerto Asis boundary using rioxarray\n"
      ]
    },
    {
      "cell_type": "code",
      "execution_count": null,
      "metadata": {
        "id": "Z3L-fbCNRdtD"
      },
      "outputs": [],
      "source": [
        "# Check CRS of the raster data\n"
      ]
    },
    {
      "cell_type": "code",
      "execution_count": null,
      "metadata": {
        "id": "qBO406DLRdtD"
      },
      "outputs": [],
      "source": [
        "# Open and clip the 2016 raster data to the Puerto Asis boundary using rioxarray\n"
      ]
    },
    {
      "cell_type": "code",
      "execution_count": null,
      "metadata": {
        "id": "qBoYC1rSRdtD"
      },
      "outputs": [],
      "source": [
        "# Plot the raster clipped to Puerto Asís (2002)\n"
      ]
    },
    {
      "cell_type": "markdown",
      "metadata": {
        "id": "Cg-FxHPjv4d0"
      },
      "source": [
        "## Creating a categorical color map"
      ]
    },
    {
      "cell_type": "code",
      "execution_count": null,
      "metadata": {
        "id": "sD6T-sR6RdtD"
      },
      "outputs": [],
      "source": [
        "# Customizing the cmap (ChatGPT)\n",
        "import numpy as np\n",
        "from matplotlib.colors import ListedColormap, BoundaryNorm\n",
        "\n",
        "# NOTE: Colors and landuses from the CMS User Guide:\n",
        "# https://daac.ornl.gov/CMS/guides/Landcover_Colombian_Amazon.html\n",
        "\n",
        "cms_colors = ['black',\n",
        "              'forestgreen',\n",
        "              'orange',\n",
        "              'purple',\n",
        "              'darkgoldenrod',\n",
        "              'limegreen',\n",
        "              'tab:blue',\n",
        "              'yellow']\n",
        "\n",
        "cms_cmap = ListedColormap(cms_colors)"
      ]
    },
    {
      "cell_type": "code",
      "execution_count": null,
      "metadata": {
        "id": "5CFpd7NZRdtD"
      },
      "outputs": [],
      "source": [
        "# Create a dummy array to map colors to\n",
        "dummy_data = np.arange(8).reshape(1, -1)\n",
        "\n",
        "# Plot the colorbar\n",
        "plt.imshow(dummy_data, cmap=cms_cmap, aspect='auto', vmin=0, vmax=8)\n",
        "plt.colorbar(ticks=np.arange(8))\n",
        "plt.show()"
      ]
    },
    {
      "cell_type": "code",
      "execution_count": null,
      "metadata": {
        "id": "zBw6o8jbRdtD"
      },
      "outputs": [],
      "source": [
        "# Create custom labels ()\n",
        "\n",
        "# Define labels\n",
        "landuse_labels = [\"Unclassified\",\n",
        "                  \"Forest\",\n",
        "                  \"Natural Grassland\",\n",
        "                  \"Urban\",\n",
        "                  \"Pasture\",\n",
        "                  \"Secondary Forest\",\n",
        "                  \"Water\",\n",
        "                  \"Highly Reflective Surface\"]\n",
        "\n",
        "# Define bins\n",
        "class_bins = [0,1,2,3,4,5,6,7,10]\n",
        "\n",
        "# Define norm\n",
        "norm = BoundaryNorm(class_bins,\n",
        "                    len(cms_colors))"
      ]
    },
    {
      "cell_type": "code",
      "execution_count": null,
      "metadata": {
        "id": "DkrbC4D9RdtD"
      },
      "outputs": [],
      "source": [
        "# Creating the legend elements\n",
        "\n",
        "from matplotlib.lines import Line2D\n",
        "\n",
        "legend_elements = [Line2D([0], [0], color='black', lw=18, label='Unclassified',),\n",
        "                   Line2D([0], [0], color='forestgreen', lw=18, label='Forest'),\n",
        "                   Line2D([0], [0], color='orange', lw=18, label='Natural Grassland'),\n",
        "                   Line2D([0], [0], color='purple', lw=18, label='Urban'),\n",
        "                   Line2D([0], [0], color='darkgoldenrod', lw=18, label='Pasture'),\n",
        "                   Line2D([0], [0], color='limegreen', lw=18, label='Secondary Forest'),\n",
        "                   Line2D([0], [0], color='tab:blue', lw=18, label='Water'),\n",
        "                   Line2D([0], [0], color='yellow', lw=18, label='Highly Reflective Surface')]\n"
      ]
    },
    {
      "cell_type": "markdown",
      "metadata": {
        "id": "iGscv5q3wAoP"
      },
      "source": [
        "## Plotting clipped **raster** data"
      ]
    },
    {
      "cell_type": "code",
      "execution_count": null,
      "metadata": {
        "id": "ahO3RkahRdtE",
        "outputId": "5b751c82-17e9-4c61-d427-ec0e14cf28c6"
      },
      "outputs": [],
      "source": [
        "# Plot the raster clipped to Puerto Asís (2002)"
      ]
    },
    {
      "cell_type": "code",
      "execution_count": null,
      "metadata": {
        "id": "AVw1IrFWRdtE",
        "outputId": "a4eb54a3-93ed-4065-bc83-8f3acf5f1482"
      },
      "outputs": [],
      "source": [
        "# Plot the raster clipped to Puerto Asís (2016)\n"
      ]
    },
    {
      "cell_type": "code",
      "execution_count": null,
      "metadata": {
        "id": "yymNylECRdtE",
        "outputId": "2c94bbc6-4c5c-4716-8e0a-8162c389c18b"
      },
      "outputs": [],
      "source": [
        "# Creating histograms of 2002 pixel counts\n"
      ]
    },
    {
      "cell_type": "code",
      "execution_count": null,
      "metadata": {
        "id": "4YDB0G-kRdtE",
        "outputId": "e31cef1e-36b1-4922-bd3c-1d9cd5a661ba"
      },
      "outputs": [],
      "source": [
        "# Creating histograms of 2016 pixel counts\n"
      ]
    },
    {
      "cell_type": "code",
      "execution_count": null,
      "metadata": {
        "id": "rXyaVuQ6RdtE",
        "outputId": "51020192-5f45-4b6b-edd5-196e1f5c4379"
      },
      "outputs": [],
      "source": [
        "#Plot histograms side-by-side\n"
      ]
    }
  ],
  "metadata": {
    "colab": {
      "provenance": []
    },
    "kernelspec": {
      "display_name": "base",
      "language": "python",
      "name": "python3"
    },
    "language_info": {
      "codemirror_mode": {
        "name": "ipython",
        "version": 3
      },
      "file_extension": ".py",
      "mimetype": "text/x-python",
      "name": "python",
      "nbconvert_exporter": "python",
      "pygments_lexer": "ipython3",
      "version": "3.10.11"
    }
  },
  "nbformat": 4,
  "nbformat_minor": 0
}
